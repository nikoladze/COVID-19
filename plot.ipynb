{
 "cells": [
  {
   "cell_type": "code",
   "execution_count": 1,
   "metadata": {},
   "outputs": [],
   "source": [
    "import glob\n",
    "import pandas as pd\n",
    "import matplotlib.pyplot as plt\n",
    "import numpy as np\n",
    "import scipy.optimize"
   ]
  },
  {
   "cell_type": "code",
   "execution_count": 2,
   "metadata": {},
   "outputs": [],
   "source": [
    "df = []\n",
    "for fname in glob.glob(\"csse_covid_19_data/csse_covid_19_daily_reports/*.csv\"):\n",
    "    report_date = fname.split(\"/\")[-1].replace(\".csv\", \"\")\n",
    "    _df = pd.read_csv(fname)\n",
    "    _df[\"report_date\"] = report_date\n",
    "    df.append(_df[_df[\"Country/Region\"] == \"Germany\"])\n",
    "df = pd.concat(df)\n",
    "df[\"Last Update\"] = pd.to_datetime(df[\"Last Update\"])\n",
    "df[\"report_date\"] = pd.to_datetime(df[\"report_date\"])\n",
    "df[\"date\"] = df[\"report_date\"] # seems to make more sense than the \"Last Update\"\n",
    "df = df.sort_values(by=\"date\")\n",
    "df = df.drop_duplicates()\n",
    "#df = df.iloc[:-5]"
   ]
  },
  {
   "cell_type": "code",
   "execution_count": 3,
   "metadata": {
    "scrolled": true
   },
   "outputs": [
    {
     "data": {
      "text/html": [
       "<div>\n",
       "<style scoped>\n",
       "    .dataframe tbody tr th:only-of-type {\n",
       "        vertical-align: middle;\n",
       "    }\n",
       "\n",
       "    .dataframe tbody tr th {\n",
       "        vertical-align: top;\n",
       "    }\n",
       "\n",
       "    .dataframe thead th {\n",
       "        text-align: right;\n",
       "    }\n",
       "</style>\n",
       "<table border=\"1\" class=\"dataframe\">\n",
       "  <thead>\n",
       "    <tr style=\"text-align: right;\">\n",
       "      <th></th>\n",
       "      <th>Province/State</th>\n",
       "      <th>Country/Region</th>\n",
       "      <th>Last Update</th>\n",
       "      <th>Confirmed</th>\n",
       "      <th>Deaths</th>\n",
       "      <th>Recovered</th>\n",
       "      <th>report_date</th>\n",
       "      <th>Latitude</th>\n",
       "      <th>Longitude</th>\n",
       "      <th>date</th>\n",
       "    </tr>\n",
       "  </thead>\n",
       "  <tbody>\n",
       "    <tr>\n",
       "      <th>8</th>\n",
       "      <td>NaN</td>\n",
       "      <td>Germany</td>\n",
       "      <td>2020-03-09 18:13:11</td>\n",
       "      <td>1176.0</td>\n",
       "      <td>2.0</td>\n",
       "      <td>18.0</td>\n",
       "      <td>2020-03-09</td>\n",
       "      <td>51.0000</td>\n",
       "      <td>9.0000</td>\n",
       "      <td>2020-03-09</td>\n",
       "    </tr>\n",
       "    <tr>\n",
       "      <th>6</th>\n",
       "      <td>NaN</td>\n",
       "      <td>Germany</td>\n",
       "      <td>2020-03-10 18:53:02</td>\n",
       "      <td>1457.0</td>\n",
       "      <td>2.0</td>\n",
       "      <td>18.0</td>\n",
       "      <td>2020-03-10</td>\n",
       "      <td>51.0000</td>\n",
       "      <td>9.0000</td>\n",
       "      <td>2020-03-10</td>\n",
       "    </tr>\n",
       "    <tr>\n",
       "      <th>6</th>\n",
       "      <td>NaN</td>\n",
       "      <td>Germany</td>\n",
       "      <td>2020-03-11 19:13:17</td>\n",
       "      <td>1908.0</td>\n",
       "      <td>3.0</td>\n",
       "      <td>25.0</td>\n",
       "      <td>2020-03-11</td>\n",
       "      <td>51.0000</td>\n",
       "      <td>9.0000</td>\n",
       "      <td>2020-03-11</td>\n",
       "    </tr>\n",
       "    <tr>\n",
       "      <th>6</th>\n",
       "      <td>NaN</td>\n",
       "      <td>Germany</td>\n",
       "      <td>2020-03-12 09:53:06</td>\n",
       "      <td>2078.0</td>\n",
       "      <td>3.0</td>\n",
       "      <td>25.0</td>\n",
       "      <td>2020-03-12</td>\n",
       "      <td>51.0000</td>\n",
       "      <td>9.0000</td>\n",
       "      <td>2020-03-12</td>\n",
       "    </tr>\n",
       "    <tr>\n",
       "      <th>53</th>\n",
       "      <td>NaN</td>\n",
       "      <td>Germany</td>\n",
       "      <td>2020-03-11 20:00:00</td>\n",
       "      <td>3675.0</td>\n",
       "      <td>7.0</td>\n",
       "      <td>46.0</td>\n",
       "      <td>2020-03-13</td>\n",
       "      <td>51.1657</td>\n",
       "      <td>10.4515</td>\n",
       "      <td>2020-03-13</td>\n",
       "    </tr>\n",
       "  </tbody>\n",
       "</table>\n",
       "</div>"
      ],
      "text/plain": [
       "   Province/State Country/Region         Last Update  Confirmed  Deaths  \\\n",
       "8             NaN        Germany 2020-03-09 18:13:11     1176.0     2.0   \n",
       "6             NaN        Germany 2020-03-10 18:53:02     1457.0     2.0   \n",
       "6             NaN        Germany 2020-03-11 19:13:17     1908.0     3.0   \n",
       "6             NaN        Germany 2020-03-12 09:53:06     2078.0     3.0   \n",
       "53            NaN        Germany 2020-03-11 20:00:00     3675.0     7.0   \n",
       "\n",
       "    Recovered report_date  Latitude  Longitude       date  \n",
       "8        18.0  2020-03-09   51.0000     9.0000 2020-03-09  \n",
       "6        18.0  2020-03-10   51.0000     9.0000 2020-03-10  \n",
       "6        25.0  2020-03-11   51.0000     9.0000 2020-03-11  \n",
       "6        25.0  2020-03-12   51.0000     9.0000 2020-03-12  \n",
       "53       46.0  2020-03-13   51.1657    10.4515 2020-03-13  "
      ]
     },
     "execution_count": 3,
     "metadata": {},
     "output_type": "execute_result"
    }
   ],
   "source": [
    "df.tail()"
   ]
  },
  {
   "cell_type": "code",
   "execution_count": 4,
   "metadata": {},
   "outputs": [
    {
     "data": {
      "image/png": "[encoded data removed]",
      "text/plain": [
       "<Figure size 432x288 with 1 Axes>"
      ]
     },
     "metadata": {
      "needs_background": "light"
     },
     "output_type": "display_data"
    }
   ],
   "source": [
    "fig, ax = plt.subplots()\n",
    "df.plot(x=\"date\", y=\"Confirmed\", ax=ax)\n",
    "df.plot(x=\"date\", y=\"Deaths\", ax=ax)\n",
    "df.plot(x=\"date\", y=\"Recovered\", ax=ax)\n",
    "ax.set_yscale(\"log\")"
   ]
  },
  {
   "cell_type": "code",
   "execution_count": 5,
   "metadata": {},
   "outputs": [],
   "source": [
    "def func(x, a, b, c):\n",
    "    return a * np.exp(b * (x - c))"
   ]
  },
  {
   "cell_type": "code",
   "execution_count": 6,
   "metadata": {},
   "outputs": [],
   "source": [
    "x_int = df[\"date\"].astype(\"int\").values\n",
    "x_int = (x_int - x_int[0]) / 1e9 / 3600 / 24\n",
    "x = x_int[1:]\n",
    "y = np.diff(df[\"Confirmed\"]) / np.diff(x_int)\n",
    "y_int = df[\"Confirmed\"].values"
   ]
  },
  {
   "cell_type": "code",
   "execution_count": 7,
   "metadata": {},
   "outputs": [],
   "source": [
    "popt, pcov = scipy.optimize.curve_fit(func, x, y, p0=(1, len(x) / (x[-1] - x[0]), x[0]))"
   ]
  },
  {
   "cell_type": "code",
   "execution_count": 8,
   "metadata": {},
   "outputs": [
    {
     "data": {
      "text/plain": [
       "(array([737456., 737463., 737470., 737477., 737485., 737492., 737499.]),\n",
       " <a list of 7 Text xticklabel objects>)"
      ]
     },
     "execution_count": 8,
     "metadata": {},
     "output_type": "execute_result"
    },
    {
     "data": {
      "image/png": "[encoded data removed]",
      "text/plain": [
       "<Figure size 432x288 with 1 Axes>"
      ]
     },
     "metadata": {
      "needs_background": "light"
     },
     "output_type": "display_data"
    }
   ],
   "source": [
    "plt.plot(df[\"date\"][1:], y)\n",
    "plt.plot(df[\"date\"][1:], func(x, *popt))\n",
    "plt.xticks(rotation=45)"
   ]
  },
  {
   "cell_type": "code",
   "execution_count": 9,
   "metadata": {},
   "outputs": [],
   "source": [
    "popt_int, pcov_int = scipy.optimize.curve_fit(func, x_int, y_int, p0=(1, len(x) / (x[-1] - x[0]), x[0]))"
   ]
  },
  {
   "cell_type": "code",
   "execution_count": 10,
   "metadata": {},
   "outputs": [
    {
     "data": {
      "text/plain": [
       "array([0.02397463, 0.26555196, 0.39434565])"
      ]
     },
     "execution_count": 10,
     "metadata": {},
     "output_type": "execute_result"
    }
   ],
   "source": [
    "popt_int"
   ]
  },
  {
   "cell_type": "code",
   "execution_count": 11,
   "metadata": {},
   "outputs": [
    {
     "data": {
      "image/png": "[encoded data removed]",
      "text/plain": [
       "<Figure size 432x288 with 1 Axes>"
      ]
     },
     "metadata": {
      "needs_background": "light"
     },
     "output_type": "display_data"
    }
   ],
   "source": [
    "fig, ax = plt.subplots()\n",
    "\n",
    "ax.plot(df[\"date\"], y_int, label=\"confirmed\", color=\"C0\")\n",
    "ax.plot(df[\"date\"], func(x_int, *popt_int), \"--\", label=\"fit\", color=\"C0\")\n",
    "\n",
    "ax.plot(df[\"date\"][1:], y, label=\"confirmed diff\", color=\"C1\")\n",
    "ax.plot(df[\"date\"][1:], func(x, *popt), \"--\", label=\"fit\", color=\"C1\")\n",
    "\n",
    "ax.xaxis.set_tick_params(rotation=45)\n",
    "ax.legend()\n",
    "\n",
    "ax.set_yscale(\"log\")\n",
    "ax.set_ylim(bottom=1e-1)\n",
    "fig.tight_layout()\n",
    "fig.savefig(\"corona_de_log.pdf\")\n",
    "ax.set_ylim(auto=True)\n",
    "ax.set_yscale(\"linear\")\n",
    "fig.savefig(\"corona_de.pdf\")"
   ]
  },
  {
   "cell_type": "code",
   "execution_count": 21,
   "metadata": {},
   "outputs": [
    {
     "data": {
      "text/plain": [
       "305206.243299807"
      ]
     },
     "execution_count": 21,
     "metadata": {},
     "output_type": "execute_result"
    },
    {
     "data": {
      "image/png": "[encoded data removed]",
      "text/plain": [
       "<Figure size 432x288 with 1 Axes>"
      ]
     },
     "metadata": {
      "needs_background": "light"
     },
     "output_type": "display_data"
    }
   ],
   "source": [
    "dates_extrap = pd.date_range(start=df.date.iloc[0], end=\"2020-03-30\", freq=\"d\")\n",
    "days = np.arange(len(dates_extrap))\n",
    "pred = func(days, *popt_int)\n",
    "fig, ax = plt.subplots()\n",
    "ax.plot(df[\"date\"], y_int, label=\"confirmed\", color=\"C0\")\n",
    "ax.plot(dates_extrap, pred, \"--\", color=\"C0\")\n",
    "ax.set_yscale(\"log\")\n",
    "ax.xaxis.set_tick_params(rotation=45)\n",
    "pred[-1]"
   ]
  },
  {
   "cell_type": "code",
   "execution_count": 13,
   "metadata": {},
   "outputs": [
    {
     "data": {
      "text/plain": [
       "Timestamp('2020-04-20 00:00:00', freq='D')"
      ]
     },
     "execution_count": 13,
     "metadata": {},
     "output_type": "execute_result"
    }
   ],
   "source": [
    "dates_extrap[(func(days, *popt_int) > 80e6)][0]"
   ]
  },
  {
   "cell_type": "code",
   "execution_count": 14,
   "metadata": {},
   "outputs": [
    {
     "data": {
      "text/plain": [
       "array([5.12314791e-22, 1.28623660e+00, 1.17170194e+00])"
      ]
     },
     "execution_count": 14,
     "metadata": {},
     "output_type": "execute_result"
    }
   ],
   "source": [
    "popt"
   ]
  },
  {
   "cell_type": "code",
   "execution_count": 15,
   "metadata": {},
   "outputs": [
    {
     "data": {
      "text/plain": [
       "array([0.02397463, 0.26555196, 0.39434565])"
      ]
     },
     "execution_count": 15,
     "metadata": {},
     "output_type": "execute_result"
    }
   ],
   "source": [
    "popt_int"
   ]
  },
  {
   "cell_type": "code",
   "execution_count": 16,
   "metadata": {},
   "outputs": [
    {
     "data": {
      "text/plain": [
       "2.6102129983331976"
      ]
     },
     "execution_count": 16,
     "metadata": {},
     "output_type": "execute_result"
    }
   ],
   "source": [
    "np.log(2) / popt_int[1]"
   ]
  },
  {
   "cell_type": "code",
   "execution_count": 17,
   "metadata": {},
   "outputs": [],
   "source": [
    "df[\"death_rate\"] = df[\"Deaths\"] / df[\"Confirmed\"]"
   ]
  },
  {
   "cell_type": "code",
   "execution_count": 18,
   "metadata": {},
   "outputs": [
    {
     "data": {
      "text/plain": [
       "8     0.001701\n",
       "6     0.001373\n",
       "6     0.001572\n",
       "6     0.001444\n",
       "53    0.001905\n",
       "Name: death_rate, dtype: float64"
      ]
     },
     "execution_count": 18,
     "metadata": {},
     "output_type": "execute_result"
    }
   ],
   "source": [
    "df.death_rate.tail()"
   ]
  },
  {
   "cell_type": "code",
   "execution_count": null,
   "metadata": {},
   "outputs": [],
   "source": []
  },
  {
   "cell_type": "code",
   "execution_count": null,
   "metadata": {},
   "outputs": [],
   "source": []
  },
  {
   "cell_type": "code",
   "execution_count": null,
   "metadata": {},
   "outputs": [],
   "source": []
  }
 ],
 "metadata": {
  "kernelspec": {
   "display_name": "Python 3",
   "language": "python",
   "name": "python3"
  },
  "language_info": {
   "codemirror_mode": {
    "name": "ipython",
    "version": 3
   },
   "file_extension": ".py",
   "mimetype": "text/x-python",
   "name": "python",
   "nbconvert_exporter": "python",
   "pygments_lexer": "ipython3",
   "version": "3.8.1"
  }
 },
 "nbformat": 4,
 "nbformat_minor": 2
}
